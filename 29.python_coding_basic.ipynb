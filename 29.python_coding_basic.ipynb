{
 "cells": [
  {
   "cell_type": "code",
   "execution_count": 1,
   "metadata": {},
   "outputs": [
    {
     "name": "stdout",
     "output_type": "stream",
     "text": [
      "{'나사못': 4, '나비너트': 1}\n"
     ]
    }
   ],
   "source": [
    "stock = {\n",
    "    '못' : 125,\n",
    "    '나사못' : 35,\n",
    "    '나비너트' : 8,\n",
    "    '와셔' : 24,\n",
    "}\n",
    "\n",
    "order = ['나사못', '나비너트', '클립']\n",
    "\n",
    "def get_batches(count, size):\n",
    "    return count // size\n",
    "\n",
    "result = {}\n",
    "for name in order:\n",
    "    count = stock.get(name,0)\n",
    "    batches = get_batches(count, 8)\n",
    "    if batches:\n",
    "        result[name] = batches\n",
    "        \n",
    "print(result)"
   ]
  },
  {
   "cell_type": "code",
   "execution_count": 2,
   "metadata": {},
   "outputs": [
    {
     "name": "stdout",
     "output_type": "stream",
     "text": [
      "{'나사못': 4, '나비너트': 1}\n"
     ]
    }
   ],
   "source": [
    "found = {name: get_batches(stock.get(name,0),8)\n",
    "        for name in order\n",
    "        if get_batches(stock.get(name,0),8)}\n",
    "print(found)"
   ]
  },
  {
   "cell_type": "code",
   "execution_count": null,
   "metadata": {},
   "outputs": [],
   "source": []
  }
 ],
 "metadata": {
  "kernelspec": {
   "display_name": "Python 3",
   "language": "python",
   "name": "python3"
  },
  "language_info": {
   "codemirror_mode": {
    "name": "ipython",
    "version": 3
   },
   "file_extension": ".py",
   "mimetype": "text/x-python",
   "name": "python",
   "nbconvert_exporter": "python",
   "pygments_lexer": "ipython3",
   "version": "3.8.5"
  }
 },
 "nbformat": 4,
 "nbformat_minor": 4
}
