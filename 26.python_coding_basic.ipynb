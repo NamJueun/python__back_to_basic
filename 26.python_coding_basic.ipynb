{
 "cells": [
  {
   "cell_type": "code",
   "execution_count": 2,
   "metadata": {},
   "outputs": [
    {
     "name": "stdout",
     "output_type": "stream",
     "text": [
      "fibonacci((0,),{})->0\n",
      "wrapper((0,),{})->0\n",
      "fibonacci((1,),{})->1\n",
      "wrapper((1,),{})->1\n",
      "fibonacci((2,),{})->1\n",
      "wrapper((2,),{})->1\n",
      "fibonacci((1,),{})->1\n",
      "wrapper((1,),{})->1\n",
      "fibonacci((0,),{})->0\n",
      "wrapper((0,),{})->0\n",
      "fibonacci((1,),{})->1\n",
      "wrapper((1,),{})->1\n",
      "fibonacci((2,),{})->1\n",
      "wrapper((2,),{})->1\n",
      "fibonacci((3,),{})->2\n",
      "wrapper((3,),{})->2\n",
      "fibonacci((4,),{})->3\n",
      "wrapper((4,),{})->3\n",
      "<function trace.<locals>.wrapper at 0x0000022CE74A10D0>\n",
      "Help on function wrapper in module __main__:\n",
      "\n",
      "wrapper(*args, **kwargs)\n",
      "\n"
     ]
    },
    {
     "ename": "AttributeError",
     "evalue": "Can't pickle local object 'trace.<locals>.wrapper'",
     "output_type": "error",
     "traceback": [
      "\u001b[1;31m---------------------------------------------------------------------------\u001b[0m",
      "\u001b[1;31mAttributeError\u001b[0m                            Traceback (most recent call last)",
      "\u001b[1;32m<ipython-input-2-26cea0e59245>\u001b[0m in \u001b[0;36m<module>\u001b[1;34m\u001b[0m\n\u001b[0;32m     20\u001b[0m \u001b[1;33m\u001b[0m\u001b[0m\n\u001b[0;32m     21\u001b[0m \u001b[1;32mimport\u001b[0m \u001b[0mpickle\u001b[0m\u001b[1;33m\u001b[0m\u001b[1;33m\u001b[0m\u001b[0m\n\u001b[1;32m---> 22\u001b[1;33m \u001b[0mpickle\u001b[0m\u001b[1;33m.\u001b[0m\u001b[0mdumps\u001b[0m\u001b[1;33m(\u001b[0m\u001b[0mfibonacci\u001b[0m\u001b[1;33m)\u001b[0m\u001b[1;33m\u001b[0m\u001b[1;33m\u001b[0m\u001b[0m\n\u001b[0m",
      "\u001b[1;31mAttributeError\u001b[0m: Can't pickle local object 'trace.<locals>.wrapper'"
     ]
    }
   ],
   "source": [
    "def trace(func):\n",
    "    def wrapper(*args, **kwargs):\n",
    "        result = func(*args, **kwargs)\n",
    "        print(f'{func.__name__}({args!r},{kwargs!r})'\n",
    "             f'->{result!r}')\n",
    "        return result\n",
    "    return wrapper\n",
    "\n",
    "@trace\n",
    "def fibonacci(n):\n",
    "    \"\"\" n번째 피보나치 수를 반환한다.\"\"\"\n",
    "    if n in (0,1):\n",
    "        return n \n",
    "    return (fibonacci(n-2) + fibonacci(n-1))\n",
    "\n",
    "fibonacci = trace(fibonacci)\n",
    "fibonacci(4)\n",
    "print(fibonacci)\n",
    "help(fibonacci)\n",
    "\n",
    "import pickle\n",
    "pickle.dumps(fibonacci)"
   ]
  },
  {
   "cell_type": "code",
   "execution_count": 4,
   "metadata": {},
   "outputs": [
    {
     "name": "stdout",
     "output_type": "stream",
     "text": [
      "fibonacci((0,),{})->0\n",
      "fibonacci((0,),{})->0\n",
      "fibonacci((1,),{})->1\n",
      "fibonacci((1,),{})->1\n",
      "fibonacci((2,),{})->1\n",
      "fibonacci((2,),{})->1\n",
      "fibonacci((1,),{})->1\n",
      "fibonacci((1,),{})->1\n",
      "fibonacci((0,),{})->0\n",
      "fibonacci((0,),{})->0\n",
      "fibonacci((1,),{})->1\n",
      "fibonacci((1,),{})->1\n",
      "fibonacci((2,),{})->1\n",
      "fibonacci((2,),{})->1\n",
      "fibonacci((3,),{})->2\n",
      "fibonacci((3,),{})->2\n",
      "fibonacci((4,),{})->3\n",
      "fibonacci((4,),{})->3\n",
      "<function fibonacci at 0x0000022CE7494F70>\n",
      "Help on function fibonacci in module __main__:\n",
      "\n",
      "fibonacci(n)\n",
      "    n번째 피보나치 수를 반환한다.\n",
      "\n"
     ]
    },
    {
     "data": {
      "text/plain": [
       "b'\\x80\\x04\\x95\\x1a\\x00\\x00\\x00\\x00\\x00\\x00\\x00\\x8c\\x08__main__\\x94\\x8c\\tfibonacci\\x94\\x93\\x94.'"
      ]
     },
     "execution_count": 4,
     "metadata": {},
     "output_type": "execute_result"
    }
   ],
   "source": [
    "from functools import wraps\n",
    "\n",
    "def trace(func):\n",
    "    @wraps(func)\n",
    "    def wrapper(*args, **kwargs):\n",
    "        result = func(*args, **kwargs)\n",
    "        print(f'{func.__name__}({args!r},{kwargs!r})'\n",
    "             f'->{result!r}')\n",
    "        return result\n",
    "    return wrapper\n",
    "\n",
    "@trace\n",
    "def fibonacci(n):\n",
    "    \"\"\" n번째 피보나치 수를 반환한다.\"\"\"\n",
    "    if n in (0,1):\n",
    "        return n \n",
    "    return (fibonacci(n-2) + fibonacci(n-1))\n",
    "\n",
    "fibonacci = trace(fibonacci)\n",
    "fibonacci(4)\n",
    "print(fibonacci)\n",
    "help(fibonacci)\n",
    "\n",
    "\n",
    "import pickle\n",
    "pickle.dumps(fibonacci)"
   ]
  },
  {
   "cell_type": "code",
   "execution_count": null,
   "metadata": {},
   "outputs": [],
   "source": []
  }
 ],
 "metadata": {
  "kernelspec": {
   "display_name": "Python 3",
   "language": "python",
   "name": "python3"
  },
  "language_info": {
   "codemirror_mode": {
    "name": "ipython",
    "version": 3
   },
   "file_extension": ".py",
   "mimetype": "text/x-python",
   "name": "python",
   "nbconvert_exporter": "python",
   "pygments_lexer": "ipython3",
   "version": "3.8.5"
  }
 },
 "nbformat": 4,
 "nbformat_minor": 4
}
